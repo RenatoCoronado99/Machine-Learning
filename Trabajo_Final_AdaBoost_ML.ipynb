{
  "nbformat": 4,
  "nbformat_minor": 0,
  "metadata": {
    "colab": {
      "name": "Trabajo_Final_AdaBoost_ML.ipynb",
      "provenance": [],
      "include_colab_link": true
    },
    "kernelspec": {
      "name": "python3",
      "display_name": "Python 3"
    }
  },
  "cells": [
    {
      "cell_type": "markdown",
      "metadata": {
        "id": "view-in-github",
        "colab_type": "text"
      },
      "source": [
        "<a href=\"https://colab.research.google.com/github/RenatoCoronado99/Machine-Learning/blob/main/Trabajo_Final_AdaBoost_ML.ipynb\" target=\"_parent\"><img src=\"https://colab.research.google.com/assets/colab-badge.svg\" alt=\"Open In Colab\"/></a>"
      ]
    },
    {
      "cell_type": "code",
      "metadata": {
        "id": "-PO5ehCg9Kjv"
      },
      "source": [
        "import numpy as np\n",
        "import pandas as pd \n",
        "from sklearn.ensemble import AdaBoostClassifier\n",
        "from sklearn.metrics import accuracy_score,recall_score,f1_score\n",
        "from sklearn.metrics import precision_score\n",
        "from sklearn.metrics import confusion_matrix\n",
        "import matplotlib.pyplot as plt\n",
        "from sklearn.model_selection import cross_val_score\n",
        "from sklearn import preprocessing"
      ],
      "execution_count": null,
      "outputs": []
    },
    {
      "cell_type": "code",
      "metadata": {
        "colab": {
          "base_uri": "https://localhost:8080/"
        },
        "id": "bND4VoACBi6G",
        "outputId": "649838cc-dd02-477a-8cb7-30fb9644c601"
      },
      "source": [
        "from google.colab import drive\n",
        "drive.mount('/content/drive')"
      ],
      "execution_count": null,
      "outputs": [
        {
          "output_type": "stream",
          "text": [
            "Mounted at /content/drive\n"
          ],
          "name": "stdout"
        }
      ]
    },
    {
      "cell_type": "code",
      "metadata": {
        "colab": {
          "base_uri": "https://localhost:8080/",
          "height": 402
        },
        "id": "NmfrnpFRBnMP",
        "outputId": "d0e3b345-f28b-49e4-d6c9-ae38e95f2493"
      },
      "source": [
        "ColumnNames = [\"sequence\",\"mcg\",\"gvh\",\"alm\",\"mit\",\"erl\",\"pox\",\"vac\",\"nuc\",\"Class\"]\r\n",
        "path = \"/content/drive/MyDrive/ML/Trabajo Final/yeast.xlsx\"\r\n",
        "data= pd.read_excel(path,names =ColumnNames)\r\n",
        "data"
      ],
      "execution_count": null,
      "outputs": [
        {
          "output_type": "execute_result",
          "data": {
            "text/html": [
              "<div>\n",
              "<style scoped>\n",
              "    .dataframe tbody tr th:only-of-type {\n",
              "        vertical-align: middle;\n",
              "    }\n",
              "\n",
              "    .dataframe tbody tr th {\n",
              "        vertical-align: top;\n",
              "    }\n",
              "\n",
              "    .dataframe thead th {\n",
              "        text-align: right;\n",
              "    }\n",
              "</style>\n",
              "<table border=\"1\" class=\"dataframe\">\n",
              "  <thead>\n",
              "    <tr style=\"text-align: right;\">\n",
              "      <th></th>\n",
              "      <th>sequence</th>\n",
              "      <th>mcg</th>\n",
              "      <th>gvh</th>\n",
              "      <th>alm</th>\n",
              "      <th>mit</th>\n",
              "      <th>erl</th>\n",
              "      <th>pox</th>\n",
              "      <th>vac</th>\n",
              "      <th>nuc</th>\n",
              "      <th>Class</th>\n",
              "    </tr>\n",
              "  </thead>\n",
              "  <tbody>\n",
              "    <tr>\n",
              "      <th>0</th>\n",
              "      <td>ADT2_YEAST</td>\n",
              "      <td>0.43</td>\n",
              "      <td>0.67</td>\n",
              "      <td>0.48</td>\n",
              "      <td>0.27</td>\n",
              "      <td>0.5</td>\n",
              "      <td>0.0</td>\n",
              "      <td>0.53</td>\n",
              "      <td>0.22</td>\n",
              "      <td>MIT</td>\n",
              "    </tr>\n",
              "    <tr>\n",
              "      <th>1</th>\n",
              "      <td>ADT3_YEAST</td>\n",
              "      <td>0.64</td>\n",
              "      <td>0.62</td>\n",
              "      <td>0.49</td>\n",
              "      <td>0.15</td>\n",
              "      <td>0.5</td>\n",
              "      <td>0.0</td>\n",
              "      <td>0.53</td>\n",
              "      <td>0.22</td>\n",
              "      <td>MIT</td>\n",
              "    </tr>\n",
              "    <tr>\n",
              "      <th>2</th>\n",
              "      <td>AAR2_YEAST</td>\n",
              "      <td>0.58</td>\n",
              "      <td>0.44</td>\n",
              "      <td>0.57</td>\n",
              "      <td>0.13</td>\n",
              "      <td>0.5</td>\n",
              "      <td>0.0</td>\n",
              "      <td>0.54</td>\n",
              "      <td>0.22</td>\n",
              "      <td>NUC</td>\n",
              "    </tr>\n",
              "    <tr>\n",
              "      <th>3</th>\n",
              "      <td>AATM_YEAST</td>\n",
              "      <td>0.42</td>\n",
              "      <td>0.44</td>\n",
              "      <td>0.48</td>\n",
              "      <td>0.54</td>\n",
              "      <td>0.5</td>\n",
              "      <td>0.0</td>\n",
              "      <td>0.48</td>\n",
              "      <td>0.22</td>\n",
              "      <td>MIT</td>\n",
              "    </tr>\n",
              "    <tr>\n",
              "      <th>4</th>\n",
              "      <td>AATC_YEAST</td>\n",
              "      <td>0.51</td>\n",
              "      <td>0.40</td>\n",
              "      <td>0.56</td>\n",
              "      <td>0.17</td>\n",
              "      <td>0.5</td>\n",
              "      <td>0.5</td>\n",
              "      <td>0.49</td>\n",
              "      <td>0.22</td>\n",
              "      <td>CYT</td>\n",
              "    </tr>\n",
              "    <tr>\n",
              "      <th>...</th>\n",
              "      <td>...</td>\n",
              "      <td>...</td>\n",
              "      <td>...</td>\n",
              "      <td>...</td>\n",
              "      <td>...</td>\n",
              "      <td>...</td>\n",
              "      <td>...</td>\n",
              "      <td>...</td>\n",
              "      <td>...</td>\n",
              "      <td>...</td>\n",
              "    </tr>\n",
              "    <tr>\n",
              "      <th>1473</th>\n",
              "      <td>YUR1_YEAST</td>\n",
              "      <td>0.81</td>\n",
              "      <td>0.62</td>\n",
              "      <td>0.43</td>\n",
              "      <td>0.17</td>\n",
              "      <td>0.5</td>\n",
              "      <td>0.0</td>\n",
              "      <td>0.53</td>\n",
              "      <td>0.22</td>\n",
              "      <td>ME2</td>\n",
              "    </tr>\n",
              "    <tr>\n",
              "      <th>1474</th>\n",
              "      <td>ZIP1_YEAST</td>\n",
              "      <td>0.47</td>\n",
              "      <td>0.43</td>\n",
              "      <td>0.61</td>\n",
              "      <td>0.40</td>\n",
              "      <td>0.5</td>\n",
              "      <td>0.0</td>\n",
              "      <td>0.48</td>\n",
              "      <td>0.47</td>\n",
              "      <td>NUC</td>\n",
              "    </tr>\n",
              "    <tr>\n",
              "      <th>1475</th>\n",
              "      <td>ZNRP_YEAST</td>\n",
              "      <td>0.67</td>\n",
              "      <td>0.57</td>\n",
              "      <td>0.36</td>\n",
              "      <td>0.19</td>\n",
              "      <td>0.5</td>\n",
              "      <td>0.0</td>\n",
              "      <td>0.56</td>\n",
              "      <td>0.22</td>\n",
              "      <td>ME2</td>\n",
              "    </tr>\n",
              "    <tr>\n",
              "      <th>1476</th>\n",
              "      <td>ZUO1_YEAST</td>\n",
              "      <td>0.43</td>\n",
              "      <td>0.40</td>\n",
              "      <td>0.60</td>\n",
              "      <td>0.16</td>\n",
              "      <td>0.5</td>\n",
              "      <td>0.0</td>\n",
              "      <td>0.53</td>\n",
              "      <td>0.39</td>\n",
              "      <td>NUC</td>\n",
              "    </tr>\n",
              "    <tr>\n",
              "      <th>1477</th>\n",
              "      <td>G6PD_YEAST</td>\n",
              "      <td>0.65</td>\n",
              "      <td>0.54</td>\n",
              "      <td>0.54</td>\n",
              "      <td>0.13</td>\n",
              "      <td>0.5</td>\n",
              "      <td>0.0</td>\n",
              "      <td>0.53</td>\n",
              "      <td>0.22</td>\n",
              "      <td>CYT</td>\n",
              "    </tr>\n",
              "  </tbody>\n",
              "</table>\n",
              "<p>1478 rows × 10 columns</p>\n",
              "</div>"
            ],
            "text/plain": [
              "        sequence   mcg   gvh   alm   mit  erl  pox   vac   nuc Class\n",
              "0     ADT2_YEAST  0.43  0.67  0.48  0.27  0.5  0.0  0.53  0.22   MIT\n",
              "1     ADT3_YEAST  0.64  0.62  0.49  0.15  0.5  0.0  0.53  0.22   MIT\n",
              "2     AAR2_YEAST  0.58  0.44  0.57  0.13  0.5  0.0  0.54  0.22   NUC\n",
              "3     AATM_YEAST  0.42  0.44  0.48  0.54  0.5  0.0  0.48  0.22   MIT\n",
              "4     AATC_YEAST  0.51  0.40  0.56  0.17  0.5  0.5  0.49  0.22   CYT\n",
              "...          ...   ...   ...   ...   ...  ...  ...   ...   ...   ...\n",
              "1473  YUR1_YEAST  0.81  0.62  0.43  0.17  0.5  0.0  0.53  0.22   ME2\n",
              "1474  ZIP1_YEAST  0.47  0.43  0.61  0.40  0.5  0.0  0.48  0.47   NUC\n",
              "1475  ZNRP_YEAST  0.67  0.57  0.36  0.19  0.5  0.0  0.56  0.22   ME2\n",
              "1476  ZUO1_YEAST  0.43  0.40  0.60  0.16  0.5  0.0  0.53  0.39   NUC\n",
              "1477  G6PD_YEAST  0.65  0.54  0.54  0.13  0.5  0.0  0.53  0.22   CYT\n",
              "\n",
              "[1478 rows x 10 columns]"
            ]
          },
          "metadata": {
            "tags": []
          },
          "execution_count": 3
        }
      ]
    },
    {
      "cell_type": "code",
      "metadata": {
        "id": "55-o-flvLu1i"
      },
      "source": [
        "#alm mcg mit\n",
        "#y = data[\"Class\"]\n",
        "#colNames =[\"mcg\",\"alm\",\"mit\",\"gvh\"]\n",
        "#data2 = data[colNames]"
      ],
      "execution_count": null,
      "outputs": []
    },
    {
      "cell_type": "code",
      "metadata": {
        "id": "gJ4UTLOZI2n3"
      },
      "source": [
        "from sklearn.preprocessing import LabelEncoder\r\n",
        "le = LabelEncoder()\r\n",
        "data[\"Class\"] = le.fit_transform(data[\"Class\"])\r\n",
        "data[\"sequence\"] = le.fit_transform(data[\"sequence\"])\r\n",
        "data2=data\r\n",
        "y = data2[\"Class\"]\r\n",
        "X = data2.drop([\"Class\"],axis=\"columns\")\r\n"
      ],
      "execution_count": null,
      "outputs": []
    },
    {
      "cell_type": "code",
      "metadata": {
        "id": "oQ7iwBdPLAB8"
      },
      "source": [
        "##Colorcarlos en un rango de 0 y 1 \n",
        "#data2= normalize(data,colNames)"
      ],
      "execution_count": null,
      "outputs": []
    },
    {
      "cell_type": "code",
      "metadata": {
        "id": "3AsqL6UTfX5V"
      },
      "source": [
        "from sklearn.model_selection import train_test_split,cross_val_score\r\n",
        "X_train,X_test,y_train,y_test = train_test_split(X,y,test_size=0.3)"
      ],
      "execution_count": null,
      "outputs": []
    },
    {
      "cell_type": "code",
      "metadata": {
        "colab": {
          "base_uri": "https://localhost:8080/"
        },
        "id": "0Zcgi3dWfZuK",
        "outputId": "bce4ed30-2de3-4c48-c5b6-d3a5d8f52a10"
      },
      "source": [
        "print(f\"X_train {X_train.shape}\")\r\n",
        "print(f\"X_train {y_train.shape}\")\r\n",
        "print(f\"X_train {X_test.shape}\")\r\n",
        "print(f\"X_train {y_test.shape}\")"
      ],
      "execution_count": null,
      "outputs": [
        {
          "output_type": "stream",
          "text": [
            "X_train (1034, 9)\n",
            "X_train (1034,)\n",
            "X_train (444, 9)\n",
            "X_train (444,)\n"
          ],
          "name": "stdout"
        }
      ]
    },
    {
      "cell_type": "code",
      "metadata": {
        "id": "KfC53vR2f9sb"
      },
      "source": [
        "n_estimators = [int(x) for x in np.linspace(start = 1, stop = 200)]\r\n",
        "algorithm=[\"SAMME\",\"SAMME.R\"]\r\n",
        "param_grid = {\r\n",
        "    \"n_estimators\": n_estimators,\r\n",
        "    \"algorithm\": algorithm,\r\n",
        "}"
      ],
      "execution_count": null,
      "outputs": []
    },
    {
      "cell_type": "code",
      "metadata": {
        "colab": {
          "base_uri": "https://localhost:8080/"
        },
        "id": "8fYKZhA7EWC6",
        "outputId": "cb7b2be0-355d-4ef3-9059-f984e46ea3b8"
      },
      "source": [
        "print(n_estimators)"
      ],
      "execution_count": null,
      "outputs": [
        {
          "output_type": "stream",
          "text": [
            "[1, 5, 9, 13, 17, 21, 25, 29, 33, 37, 41, 45, 49, 53, 57, 61, 65, 70, 74, 78, 82, 86, 90, 94, 98, 102, 106, 110, 114, 118, 122, 126, 130, 135, 139, 143, 147, 151, 155, 159, 163, 167, 171, 175, 179, 183, 187, 191, 195, 200]\n"
          ],
          "name": "stdout"
        }
      ]
    },
    {
      "cell_type": "code",
      "metadata": {
        "colab": {
          "base_uri": "https://localhost:8080/"
        },
        "id": "eyHF0QZvg6Az",
        "outputId": "3b98b7e0-23ba-4dd6-dbd5-7598271fd583"
      },
      "source": [
        "from sklearn.model_selection import GridSearchCV\r\n",
        "rf_ada_boost = AdaBoostClassifier()\r\n",
        "rf_ada_boost= GridSearchCV(estimator = rf_ada_boost,param_grid=param_grid,cv=5,verbose=2,n_jobs=-1)\r\n",
        "rf_ada_boost.fit(X_train,y_train)"
      ],
      "execution_count": null,
      "outputs": [
        {
          "output_type": "stream",
          "text": [
            "Fitting 5 folds for each of 100 candidates, totalling 500 fits\n"
          ],
          "name": "stdout"
        },
        {
          "output_type": "stream",
          "text": [
            "/usr/local/lib/python3.6/dist-packages/sklearn/model_selection/_split.py:667: UserWarning: The least populated class in y has only 2 members, which is less than n_splits=5.\n",
            "  % (min_groups, self.n_splits)), UserWarning)\n",
            "[Parallel(n_jobs=-1)]: Using backend LokyBackend with 2 concurrent workers.\n",
            "[Parallel(n_jobs=-1)]: Done  86 tasks      | elapsed:    5.5s\n",
            "[Parallel(n_jobs=-1)]: Done 264 tasks      | elapsed:   34.1s\n",
            "[Parallel(n_jobs=-1)]: Done 500 out of 500 | elapsed:  1.3min finished\n"
          ],
          "name": "stderr"
        },
        {
          "output_type": "execute_result",
          "data": {
            "text/plain": [
              "GridSearchCV(cv=5, error_score=nan,\n",
              "             estimator=AdaBoostClassifier(algorithm='SAMME.R',\n",
              "                                          base_estimator=None,\n",
              "                                          learning_rate=1.0, n_estimators=50,\n",
              "                                          random_state=None),\n",
              "             iid='deprecated', n_jobs=-1,\n",
              "             param_grid={'algorithm': ['SAMME', 'SAMME.R'],\n",
              "                         'n_estimators': [1, 5, 9, 13, 17, 21, 25, 29, 33, 37,\n",
              "                                          41, 45, 49, 53, 57, 61, 65, 70, 74,\n",
              "                                          78, 82, 86, 90, 94, 98, 102, 106, 110,\n",
              "                                          114, 118, ...]},\n",
              "             pre_dispatch='2*n_jobs', refit=True, return_train_score=False,\n",
              "             scoring=None, verbose=2)"
            ]
          },
          "metadata": {
            "tags": []
          },
          "execution_count": 11
        }
      ]
    },
    {
      "cell_type": "code",
      "metadata": {
        "colab": {
          "base_uri": "https://localhost:8080/"
        },
        "id": "HUwJQtfCgtR0",
        "outputId": "ee1ff425-d1f6-4701-f296-f8d34abd78af"
      },
      "source": [
        "print(param_grid)"
      ],
      "execution_count": null,
      "outputs": [
        {
          "output_type": "stream",
          "text": [
            "{'n_estimators': [1, 5, 9, 13, 17, 21, 25, 29, 33, 37, 41, 45, 49, 53, 57, 61, 65, 70, 74, 78, 82, 86, 90, 94, 98, 102, 106, 110, 114, 118, 122, 126, 130, 135, 139, 143, 147, 151, 155, 159, 163, 167, 171, 175, 179, 183, 187, 191, 195, 200], 'algorithm': ['SAMME', 'SAMME.R']}\n"
          ],
          "name": "stdout"
        }
      ]
    },
    {
      "cell_type": "code",
      "metadata": {
        "colab": {
          "base_uri": "https://localhost:8080/"
        },
        "id": "7wwHN_mFhoTr",
        "outputId": "2ed96391-174e-4300-9855-b367959dc636"
      },
      "source": [
        "print(f'Train Accuracy : {rf_ada_boost.score(X_train,y_train):.3f}')\r\n",
        "print(f'Test Accuracy : {rf_ada_boost.score(X_test,y_test):.3f}')\r\n",
        "print(f'Best Params : {rf_ada_boost.best_params_}')\r\n",
        "print(f'Estimator : {rf_ada_boost.best_estimator_} y indice {rf_ada_boost.best_index_}')"
      ],
      "execution_count": null,
      "outputs": [
        {
          "output_type": "stream",
          "text": [
            "Train Accuracy : 0.556\n",
            "Test Accuracy : 0.486\n",
            "Best Params : {'algorithm': 'SAMME', 'n_estimators': 41}\n",
            "Estimator : AdaBoostClassifier(algorithm='SAMME', base_estimator=None, learning_rate=1.0,\n",
            "                   n_estimators=41, random_state=None) y indice 10\n"
          ],
          "name": "stdout"
        }
      ]
    },
    {
      "cell_type": "code",
      "metadata": {
        "id": "EghmuH8piNMD"
      },
      "source": [
        ""
      ],
      "execution_count": null,
      "outputs": []
    },
    {
      "cell_type": "markdown",
      "metadata": {
        "id": "AwejLFdIfV-k"
      },
      "source": [
        "Codigo del profe"
      ]
    },
    {
      "cell_type": "code",
      "metadata": {
        "id": "72By_KUzMrQQ"
      },
      "source": [
        "train,validate,test=np.split(data2.sample(frac=1),[int(.8*len(data2)),int(.90*len(data2))])\n",
        "yTrain = train[\"Class\"]\n",
        "XTrain = train.drop(\"Class\",axis=\"columns\")\n",
        "XVal = validate.drop(\"Class\",axis =\"columns\")\n",
        "yVal = validate[\"Class\"]\n",
        "\n",
        "accTrain =[]\n",
        "accVal =[]\n",
        "numEst = []\n"
      ],
      "execution_count": null,
      "outputs": []
    },
    {
      "cell_type": "code",
      "metadata": {
        "id": "D-ZqgEgcNakW"
      },
      "source": [
        "for i in range(1,200):\n",
        "  model = AdaBoostClassifier(n_estimators=i,algorithm=\"SAMME\")\n",
        "  model.fit(XTrain,yTrain)\n",
        "  pred = model.predict(XTrain)\n",
        "  acc  = accuracy_score(yTrain,pred)\n",
        "  accTrain.append(acc)\n",
        "  test=model.predict(XVal)\n",
        "  acc = accuracy_score(yVal,test)\n",
        "  accVal.append(acc)\n",
        "  numEst.append(i)"
      ],
      "execution_count": null,
      "outputs": []
    },
    {
      "cell_type": "code",
      "metadata": {
        "colab": {
          "base_uri": "https://localhost:8080/"
        },
        "id": "vgUsPT8laoD1",
        "outputId": "e5096956-f8b4-442e-fdcf-5b151a922cc8"
      },
      "source": [
        "index_max = max(range(len(accTrain)),key=accTrain.__getitem__)\n",
        "print(index_max)\n",
        "##Se puede utiliar gridserach\n",
        "\n",
        "index_max = max(range(len(accVal)),key=accVal.__getitem__)\n",
        "print(index_max)"
      ],
      "execution_count": null,
      "outputs": [
        {
          "output_type": "stream",
          "text": [
            "40\n",
            "35\n"
          ],
          "name": "stdout"
        }
      ]
    },
    {
      "cell_type": "code",
      "metadata": {
        "colab": {
          "base_uri": "https://localhost:8080/"
        },
        "id": "AQENN-EbQc6c",
        "outputId": "3f9cd692-b08f-4baa-e20c-406a7c843fcf"
      },
      "source": [
        "print(max(accTrain))\r\n",
        "print(pd.Series(accVal))\r\n",
        "print(numEst)"
      ],
      "execution_count": null,
      "outputs": [
        {
          "output_type": "stream",
          "text": [
            "0.5634517766497462\n",
            "0      0.378378\n",
            "1      0.385135\n",
            "2      0.385135\n",
            "3      0.391892\n",
            "4      0.385135\n",
            "         ...   \n",
            "194    0.486486\n",
            "195    0.479730\n",
            "196    0.493243\n",
            "197    0.493243\n",
            "198    0.472973\n",
            "Length: 199, dtype: float64\n",
            "[1, 2, 3, 4, 5, 6, 7, 8, 9, 10, 11, 12, 13, 14, 15, 16, 17, 18, 19, 20, 21, 22, 23, 24, 25, 26, 27, 28, 29, 30, 31, 32, 33, 34, 35, 36, 37, 38, 39, 40, 41, 42, 43, 44, 45, 46, 47, 48, 49, 50, 51, 52, 53, 54, 55, 56, 57, 58, 59, 60, 61, 62, 63, 64, 65, 66, 67, 68, 69, 70, 71, 72, 73, 74, 75, 76, 77, 78, 79, 80, 81, 82, 83, 84, 85, 86, 87, 88, 89, 90, 91, 92, 93, 94, 95, 96, 97, 98, 99, 100, 101, 102, 103, 104, 105, 106, 107, 108, 109, 110, 111, 112, 113, 114, 115, 116, 117, 118, 119, 120, 121, 122, 123, 124, 125, 126, 127, 128, 129, 130, 131, 132, 133, 134, 135, 136, 137, 138, 139, 140, 141, 142, 143, 144, 145, 146, 147, 148, 149, 150, 151, 152, 153, 154, 155, 156, 157, 158, 159, 160, 161, 162, 163, 164, 165, 166, 167, 168, 169, 170, 171, 172, 173, 174, 175, 176, 177, 178, 179, 180, 181, 182, 183, 184, 185, 186, 187, 188, 189, 190, 191, 192, 193, 194, 195, 196, 197, 198, 199]\n"
          ],
          "name": "stdout"
        }
      ]
    },
    {
      "cell_type": "code",
      "metadata": {
        "colab": {
          "base_uri": "https://localhost:8080/",
          "height": 286
        },
        "id": "3ZwDS5iKO9kE",
        "outputId": "a498e985-bb7b-4c9c-83ac-02dd5083aec1"
      },
      "source": [
        "plt.figure(1)\n",
        "axes=plt.gca()\n",
        "axes.set_xlim([1,200])\n",
        "axes.set_ylim([0.3,0.7])\n",
        "d=pd.DataFrame({\n",
        "  \"accTrain\":pd.Series(accTrain),\n",
        "  \"accVal\":pd.Series(accVal),\n",
        "  \"numEst\":pd.Series(numEst)\n",
        "})\n",
        "plt.plot(\"numEst\",\"accTrain\",\"accVal\",data=d)\n",
        "plt.legend()\n",
        "##Azul conjutno de datos de entrenamiento\n",
        "\n",
        "##Linea naranja conjutno de datos de"
      ],
      "execution_count": null,
      "outputs": [
        {
          "output_type": "execute_result",
          "data": {
            "text/plain": [
              "<matplotlib.legend.Legend at 0x7f4c736b3a20>"
            ]
          },
          "metadata": {
            "tags": []
          },
          "execution_count": 23
        },
        {
          "output_type": "display_data",
          "data": {
            "image/png": "[encoded data removed]",
            "text/plain": [
              "<Figure size 432x288 with 1 Axes>"
            ]
          },
          "metadata": {
            "tags": [],
            "needs_background": "light"
          }
        }
      ]
    },
    {
      "cell_type": "code",
      "metadata": {
        "colab": {
          "base_uri": "https://localhost:8080/"
        },
        "id": "QycwwQVBbDMt",
        "outputId": "a9f5bcdb-478b-449e-91f8-8a2345ce84f2"
      },
      "source": [
        "model = AdaBoostClassifier(n_estimators=35,algorithm=\"SAMME\")\n",
        "\n",
        "print(cross_val_score(model,XTrain,yTrain,cv=10).mean())"
      ],
      "execution_count": null,
      "outputs": [
        {
          "output_type": "stream",
          "text": [
            "/usr/local/lib/python3.6/dist-packages/sklearn/model_selection/_split.py:667: UserWarning: The least populated class in y has only 5 members, which is less than n_splits=10.\n",
            "  % (min_groups, self.n_splits)), UserWarning)\n"
          ],
          "name": "stderr"
        },
        {
          "output_type": "stream",
          "text": [
            "0.4982623557897735\n"
          ],
          "name": "stdout"
        }
      ]
    }
  ]
}