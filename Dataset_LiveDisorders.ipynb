{
  "nbformat": 4,
  "nbformat_minor": 0,
  "metadata": {
    "colab": {
      "name": "Dataset_LiveDisorders",
      "provenance": [],
      "include_colab_link": true
    },
    "kernelspec": {
      "name": "python3",
      "display_name": "Python 3"
    }
  },
  "cells": [
    {
      "cell_type": "markdown",
      "metadata": {
        "id": "view-in-github",
        "colab_type": "text"
      },
      "source": [
        "<a href=\"https://colab.research.google.com/github/RenatoCoronado99/Machine-Learning/blob/main/Dataset_LiveDisorders.ipynb\" target=\"_parent\"><img src=\"https://colab.research.google.com/assets/colab-badge.svg\" alt=\"Open In Colab\"/></a>"
      ]
    },
    {
      "cell_type": "code",
      "metadata": {
        "id": "FY95lHiVbHyX"
      },
      "source": [
        "import numpy as np\n",
        "import matplotlib.pyplot as plt\n",
        "import pandas as pd\n",
        "from sklearn.impute import SimpleImputer\n",
        "from sklearn.model_selection import train_test_split,cross_val_score\n",
        "from sklearn.linear_model import LogisticRegression, LassoCV\n",
        "from sklearn.metrics import confusion_matrix,recall_score,f1_score\n",
        "from sklearn.ensemble import RandomForestClassifier\n",
        "from sklearn.feature_selection import RFECV\n",
        "import sys\n",
        "import seaborn as sns"
      ],
      "execution_count": null,
      "outputs": []
    },
    {
      "cell_type": "markdown",
      "metadata": {
        "id": "buo9nE9eovyB"
      },
      "source": [
        ""
      ]
    },
    {
      "cell_type": "code",
      "metadata": {
        "id": "prv64zkxHe8_"
      },
      "source": [
        "def plot_corr(dataset):\n",
        "  correlation=dataset.corr()\n",
        "  plt.figure(figsize=(15,10))\n",
        "  sns.heatmap(correlation,annot=True,cmap='coolwarm')\n",
        "def funcion_lasso(X,y,dataset):\n",
        "  lass = LassoCV()\n",
        "  lass.fit(X,y)\n",
        "  coeficientes = pd.Series(lass.coef_,index=X.columns)\n",
        "  print(coeficientes)\n",
        "  coefsort = coeficientes.sort_values()\n",
        "  plt.rcParams['figure.figsize'] == (8.0,10.0)\n",
        "  coefsort.plot(kind='barh')\n",
        "  plt.title(\"features\")\n",
        "def CategorizandoValores(vdrink):\n",
        "  if vdrink < 3:\n",
        "    return 0\n",
        "  else:\n",
        "    return 1\n",
        "def plot_corr(dataset):\n",
        "  correlation=dataset.corr()\n",
        "  plt.figure(figsize=(15,10))\n",
        "  sns.heatmap(correlation,annot=True,cmap='coolwarm')\n",
        "def Afinando_valores_dataset(dataset):\n",
        "  dataset[\"drinks\"] = dataset[\"drinks\"].apply(CategorizandoValores)\n",
        "  print(LiveDisorders.groupby([\"drinks\"]).size())\n",
        "  return dataset"
      ],
      "execution_count": null,
      "outputs": []
    },
    {
      "cell_type": "code",
      "metadata": {
        "id": "2toidMMlbX2D",
        "outputId": "3c86ff51-eca3-4051-b4f0-896afcbfdbc9",
        "colab": {
          "base_uri": "https://localhost:8080/",
          "height": 272
        }
      },
      "source": [
        "datasetOriginal_bupa = pd.read_csv(\"bupa.data\",names = [\"mcv\",\"alkphos\",\"sgpt\",\"sgot\",\"gmmagt\",\"drinks\",\"selector\"])\n",
        "listDropLiveDisorders=['selector']\n",
        "#LungCancer = pd.read_csv(\"lung-cancer.data\")\n",
        "LiveDisorders = datasetOriginal_bupa.drop(listDropLiveDisorders, axis=\"columns\")\n",
        "#print(LungCancer)\n",
        "print(LiveDisorders)"
      ],
      "execution_count": null,
      "outputs": [
        {
          "output_type": "stream",
          "text": [
            "     mcv  alkphos  sgpt  sgot  gmmagt  drinks\n",
            "0     85       92    45    27      31     0.0\n",
            "1     85       64    59    32      23     0.0\n",
            "2     86       54    33    16      54     0.0\n",
            "3     91       78    34    24      36     0.0\n",
            "4     87       70    12    28      10     0.0\n",
            "..   ...      ...   ...   ...     ...     ...\n",
            "340   99       75    26    24      41    12.0\n",
            "341   96       69    53    43     203    12.0\n",
            "342   98       77    55    35      89    15.0\n",
            "343   91       68    27    26      14    16.0\n",
            "344   98       99    57    45      65    20.0\n",
            "\n",
            "[345 rows x 6 columns]\n"
          ],
          "name": "stdout"
        }
      ]
    },
    {
      "cell_type": "code",
      "metadata": {
        "id": "l_7-5aSfK36_",
        "outputId": "c7680d66-9a3b-416c-aec3-588291656a4f",
        "colab": {
          "base_uri": "https://localhost:8080/",
          "height": 345
        }
      },
      "source": [
        "LiveDisorders = Afinando_valores_dataset(LiveDisorders)\n",
        "y =  LiveDisorders[\"drinks\"]\n",
        "X = LiveDisorders.iloc[:, 0:5]\n",
        "print(LiveDisorders)"
      ],
      "execution_count": null,
      "outputs": [
        {
          "output_type": "stream",
          "text": [
            "drinks\n",
            "0    169\n",
            "1    176\n",
            "dtype: int64\n",
            "     mcv  alkphos  sgpt  sgot  gmmagt  drinks\n",
            "0     85       92    45    27      31       0\n",
            "1     85       64    59    32      23       0\n",
            "2     86       54    33    16      54       0\n",
            "3     91       78    34    24      36       0\n",
            "4     87       70    12    28      10       0\n",
            "..   ...      ...   ...   ...     ...     ...\n",
            "340   99       75    26    24      41       1\n",
            "341   96       69    53    43     203       1\n",
            "342   98       77    55    35      89       1\n",
            "343   91       68    27    26      14       1\n",
            "344   98       99    57    45      65       1\n",
            "\n",
            "[345 rows x 6 columns]\n"
          ],
          "name": "stdout"
        }
      ]
    },
    {
      "cell_type": "code",
      "metadata": {
        "id": "94Qh-vesOiuI",
        "outputId": "f1c0ab4a-e91b-44fd-a264-27b63e2331da",
        "colab": {
          "base_uri": "https://localhost:8080/",
          "height": 407
        }
      },
      "source": [
        "X\n"
      ],
      "execution_count": null,
      "outputs": [
        {
          "output_type": "execute_result",
          "data": {
            "text/html": [
              "<div>\n",
              "<style scoped>\n",
              "    .dataframe tbody tr th:only-of-type {\n",
              "        vertical-align: middle;\n",
              "    }\n",
              "\n",
              "    .dataframe tbody tr th {\n",
              "        vertical-align: top;\n",
              "    }\n",
              "\n",
              "    .dataframe thead th {\n",
              "        text-align: right;\n",
              "    }\n",
              "</style>\n",
              "<table border=\"1\" class=\"dataframe\">\n",
              "  <thead>\n",
              "    <tr style=\"text-align: right;\">\n",
              "      <th></th>\n",
              "      <th>mcv</th>\n",
              "      <th>alkphos</th>\n",
              "      <th>sgpt</th>\n",
              "      <th>sgot</th>\n",
              "      <th>gmmagt</th>\n",
              "    </tr>\n",
              "  </thead>\n",
              "  <tbody>\n",
              "    <tr>\n",
              "      <th>0</th>\n",
              "      <td>85</td>\n",
              "      <td>92</td>\n",
              "      <td>45</td>\n",
              "      <td>27</td>\n",
              "      <td>31</td>\n",
              "    </tr>\n",
              "    <tr>\n",
              "      <th>1</th>\n",
              "      <td>85</td>\n",
              "      <td>64</td>\n",
              "      <td>59</td>\n",
              "      <td>32</td>\n",
              "      <td>23</td>\n",
              "    </tr>\n",
              "    <tr>\n",
              "      <th>2</th>\n",
              "      <td>86</td>\n",
              "      <td>54</td>\n",
              "      <td>33</td>\n",
              "      <td>16</td>\n",
              "      <td>54</td>\n",
              "    </tr>\n",
              "    <tr>\n",
              "      <th>3</th>\n",
              "      <td>91</td>\n",
              "      <td>78</td>\n",
              "      <td>34</td>\n",
              "      <td>24</td>\n",
              "      <td>36</td>\n",
              "    </tr>\n",
              "    <tr>\n",
              "      <th>4</th>\n",
              "      <td>87</td>\n",
              "      <td>70</td>\n",
              "      <td>12</td>\n",
              "      <td>28</td>\n",
              "      <td>10</td>\n",
              "    </tr>\n",
              "    <tr>\n",
              "      <th>...</th>\n",
              "      <td>...</td>\n",
              "      <td>...</td>\n",
              "      <td>...</td>\n",
              "      <td>...</td>\n",
              "      <td>...</td>\n",
              "    </tr>\n",
              "    <tr>\n",
              "      <th>340</th>\n",
              "      <td>99</td>\n",
              "      <td>75</td>\n",
              "      <td>26</td>\n",
              "      <td>24</td>\n",
              "      <td>41</td>\n",
              "    </tr>\n",
              "    <tr>\n",
              "      <th>341</th>\n",
              "      <td>96</td>\n",
              "      <td>69</td>\n",
              "      <td>53</td>\n",
              "      <td>43</td>\n",
              "      <td>203</td>\n",
              "    </tr>\n",
              "    <tr>\n",
              "      <th>342</th>\n",
              "      <td>98</td>\n",
              "      <td>77</td>\n",
              "      <td>55</td>\n",
              "      <td>35</td>\n",
              "      <td>89</td>\n",
              "    </tr>\n",
              "    <tr>\n",
              "      <th>343</th>\n",
              "      <td>91</td>\n",
              "      <td>68</td>\n",
              "      <td>27</td>\n",
              "      <td>26</td>\n",
              "      <td>14</td>\n",
              "    </tr>\n",
              "    <tr>\n",
              "      <th>344</th>\n",
              "      <td>98</td>\n",
              "      <td>99</td>\n",
              "      <td>57</td>\n",
              "      <td>45</td>\n",
              "      <td>65</td>\n",
              "    </tr>\n",
              "  </tbody>\n",
              "</table>\n",
              "<p>345 rows × 5 columns</p>\n",
              "</div>"
            ],
            "text/plain": [
              "     mcv  alkphos  sgpt  sgot  gmmagt\n",
              "0     85       92    45    27      31\n",
              "1     85       64    59    32      23\n",
              "2     86       54    33    16      54\n",
              "3     91       78    34    24      36\n",
              "4     87       70    12    28      10\n",
              "..   ...      ...   ...   ...     ...\n",
              "340   99       75    26    24      41\n",
              "341   96       69    53    43     203\n",
              "342   98       77    55    35      89\n",
              "343   91       68    27    26      14\n",
              "344   98       99    57    45      65\n",
              "\n",
              "[345 rows x 5 columns]"
            ]
          },
          "metadata": {
            "tags": []
          },
          "execution_count": 5
        }
      ]
    },
    {
      "cell_type": "code",
      "metadata": {
        "id": "qETiKZasQQeZ",
        "outputId": "0bd535e3-3c7e-42a3-b1ac-501d0ea7114f",
        "colab": {
          "base_uri": "https://localhost:8080/",
          "height": 235
        }
      },
      "source": [
        "y"
      ],
      "execution_count": null,
      "outputs": [
        {
          "output_type": "execute_result",
          "data": {
            "text/plain": [
              "0      0\n",
              "1      0\n",
              "2      0\n",
              "3      0\n",
              "4      0\n",
              "      ..\n",
              "340    1\n",
              "341    1\n",
              "342    1\n",
              "343    1\n",
              "344    1\n",
              "Name: drinks, Length: 345, dtype: int64"
            ]
          },
          "metadata": {
            "tags": []
          },
          "execution_count": 6
        }
      ]
    },
    {
      "cell_type": "code",
      "metadata": {
        "id": "9o-BI7ErM7ge",
        "outputId": "5f6e33d7-e38a-4dc8-9e13-7c3d1fe5a47c",
        "colab": {
          "base_uri": "https://localhost:8080/",
          "height": 596
        }
      },
      "source": [
        "#Existe mucha correlación entre sgpt sgot\n",
        "##Existe correlacion entre sgpt y gmmagt\n",
        "###Existe correlacion entre sgot y gmmagt\n",
        "plot_corr(LiveDisorders)"
      ],
      "execution_count": null,
      "outputs": [
        {
          "output_type": "display_data",
          "data": {
            "image/png": "[encoded data removed]",
            "text/plain": [
              "<Figure size 1080x720 with 2 Axes>"
            ]
          },
          "metadata": {
            "tags": [],
            "needs_background": "light"
          }
        }
      ]
    },
    {
      "cell_type": "code",
      "metadata": {
        "id": "zlNeIrtd2h5O",
        "outputId": "d1a5cb36-9cf8-496d-ea29-bf30fa5bc072",
        "colab": {
          "base_uri": "https://localhost:8080/",
          "height": 390
        }
      },
      "source": [
        "funcion_lasso(X,y,LiveDisorders)"
      ],
      "execution_count": null,
      "outputs": [
        {
          "output_type": "stream",
          "text": [
            "mcv        0.019162\n",
            "alkphos   -0.001363\n",
            "sgpt      -0.003315\n",
            "sgot       0.010226\n",
            "gmmagt     0.001783\n",
            "dtype: float64\n"
          ],
          "name": "stdout"
        },
        {
          "output_type": "display_data",
          "data": {
            "image/png": "[encoded data removed]",
            "text/plain": [
              "<Figure size 432x288 with 1 Axes>"
            ]
          },
          "metadata": {
            "tags": [],
            "needs_background": "light"
          }
        }
      ]
    },
    {
      "cell_type": "code",
      "metadata": {
        "id": "nKAtllB2regx"
      },
      "source": [
        "def RFE(model):\n",
        "  rfecv = RFECV(estimator= model , scoring= 'roc_auc')\n",
        "  X_new = rfecv.transform(X,y)\n",
        "  print(X_new)"
      ],
      "execution_count": null,
      "outputs": []
    },
    {
      "cell_type": "code",
      "metadata": {
        "id": "dJTA3SUdbxnm",
        "outputId": "397c289b-a580-42e0-ece4-b5b30b76f540",
        "colab": {
          "base_uri": "https://localhost:8080/",
          "height": 235
        }
      },
      "source": [
        "def logisticR(X,y):\n",
        "  X_train,X_test,y_train,y_test= train_test_split(X,y,test_size= 0.2)\n",
        "  LogisticR = LogisticRegression()\n",
        "  LogisticR.fit(X_train,y_train)\n",
        "  prediction = LogisticR.predict(X_test)\n",
        "  print(\"Predicción train -> \", prediction)\n",
        "  ###Matriz de confusión\n",
        "  cm = confusion_matrix(y_test,prediction)\n",
        "  score = LogisticR.score(X_test,y_test)\n",
        "  recall  = recall_score(y_test,prediction)\n",
        "  f1 = f1_score(y_test,prediction)\n",
        "  cvs = cross_val_score(LogisticR,X,y,cv=10)\n",
        "  print(cm)\n",
        "  print(\"Score -> \", score)\n",
        "  print(\"Cross validation -> \",cvs)\n",
        "  ## tp / (tp + fn)\n",
        "  \n",
        "  ##tp/ (tp+fp)\n",
        "  \n",
        "  print(\"Precisión: %0.2f (+/- % 0.2f)\" % (score.mean(),score.std()*2))\n",
        "  print(\"Precisión Cross validation : %0.2f (+/- % 0.2f)\" % (cvs.mean(),cvs.std()*2))\n",
        "\n",
        "  print(\"f1 Score -> \", f1)\n",
        "  print(\"El modelo solo es capaz de identificar el %0.2f \" %recall)\n",
        "\n",
        "  print(\"Recall Score -> \", recall)\n",
        "  #RFE(LogisticR)\n",
        "logisticR(X,y)"
      ],
      "execution_count": null,
      "outputs": [
        {
          "output_type": "stream",
          "text": [
            "Predicción train ->  [0 1 1 0 0 0 0 1 1 1 1 0 0 1 0 1 0 0 1 0 0 0 0 0 0 0 0 1 0 1 0 0 1 1 0 1 1\n",
            " 1 1 1 0 1 0 0 0 0 0 1 1 0 0 1 1 0 0 1 0 0 1 0 0 1 0 1 0 1 1 0 1]\n",
            "[[22  9]\n",
            " [17 21]]\n",
            "Score ->  0.6231884057971014\n",
            "Cross validation ->  [0.54285714 0.42857143 0.65714286 0.62857143 0.62857143 0.73529412\n",
            " 0.5        0.58823529 0.70588235 0.70588235]\n",
            "Precisión: 0.62 (+/-  0.00)\n",
            "Precisión Cross validation : 0.61 (+/-  0.19)\n",
            "f1 Score ->  0.6176470588235295\n",
            "El modelo solo es capaz de identificar el 0.55 \n",
            "Recall Score ->  0.5526315789473685\n"
          ],
          "name": "stdout"
        }
      ]
    },
    {
      "cell_type": "code",
      "metadata": {
        "id": "nrjlqYzr_nZf",
        "outputId": "5e913ff3-a606-46e6-c2b4-15ee9bf68205",
        "colab": {
          "base_uri": "https://localhost:8080/",
          "height": 735
        }
      },
      "source": [
        "##Eliminado variables no significativas basnadose en analisis de correlación\n",
        "listDropLiveDisorders=['selector',\"sgot\"]\n",
        "LiveDisorders_Correlacion = datasetOriginal_bupa.drop(listDropLiveDisorders, axis=\"columns\")\n",
        "LiveDisorders_Correlacion = Afinando_valores_dataset(LiveDisorders_Correlacion)\n",
        "print(LiveDisorders_Correlacion)\n",
        "y =  LiveDisorders_Correlacion[\"drinks\"]\n",
        "X = LiveDisorders_Correlacion.iloc[:, 0:4]\n",
        "X"
      ],
      "execution_count": null,
      "outputs": [
        {
          "output_type": "stream",
          "text": [
            "drinks\n",
            "0    169\n",
            "1    176\n",
            "dtype: int64\n",
            "     mcv  alkphos  sgpt  gmmagt  drinks\n",
            "0     85       92    45      31       0\n",
            "1     85       64    59      23       0\n",
            "2     86       54    33      54       0\n",
            "3     91       78    34      36       0\n",
            "4     87       70    12      10       0\n",
            "..   ...      ...   ...     ...     ...\n",
            "340   99       75    26      41       1\n",
            "341   96       69    53     203       1\n",
            "342   98       77    55      89       1\n",
            "343   91       68    27      14       1\n",
            "344   98       99    57      65       1\n",
            "\n",
            "[345 rows x 5 columns]\n"
          ],
          "name": "stdout"
        },
        {
          "output_type": "execute_result",
          "data": {
            "text/html": [
              "<div>\n",
              "<style scoped>\n",
              "    .dataframe tbody tr th:only-of-type {\n",
              "        vertical-align: middle;\n",
              "    }\n",
              "\n",
              "    .dataframe tbody tr th {\n",
              "        vertical-align: top;\n",
              "    }\n",
              "\n",
              "    .dataframe thead th {\n",
              "        text-align: right;\n",
              "    }\n",
              "</style>\n",
              "<table border=\"1\" class=\"dataframe\">\n",
              "  <thead>\n",
              "    <tr style=\"text-align: right;\">\n",
              "      <th></th>\n",
              "      <th>mcv</th>\n",
              "      <th>alkphos</th>\n",
              "      <th>sgpt</th>\n",
              "      <th>gmmagt</th>\n",
              "    </tr>\n",
              "  </thead>\n",
              "  <tbody>\n",
              "    <tr>\n",
              "      <th>0</th>\n",
              "      <td>85</td>\n",
              "      <td>92</td>\n",
              "      <td>45</td>\n",
              "      <td>31</td>\n",
              "    </tr>\n",
              "    <tr>\n",
              "      <th>1</th>\n",
              "      <td>85</td>\n",
              "      <td>64</td>\n",
              "      <td>59</td>\n",
              "      <td>23</td>\n",
              "    </tr>\n",
              "    <tr>\n",
              "      <th>2</th>\n",
              "      <td>86</td>\n",
              "      <td>54</td>\n",
              "      <td>33</td>\n",
              "      <td>54</td>\n",
              "    </tr>\n",
              "    <tr>\n",
              "      <th>3</th>\n",
              "      <td>91</td>\n",
              "      <td>78</td>\n",
              "      <td>34</td>\n",
              "      <td>36</td>\n",
              "    </tr>\n",
              "    <tr>\n",
              "      <th>4</th>\n",
              "      <td>87</td>\n",
              "      <td>70</td>\n",
              "      <td>12</td>\n",
              "      <td>10</td>\n",
              "    </tr>\n",
              "    <tr>\n",
              "      <th>...</th>\n",
              "      <td>...</td>\n",
              "      <td>...</td>\n",
              "      <td>...</td>\n",
              "      <td>...</td>\n",
              "    </tr>\n",
              "    <tr>\n",
              "      <th>340</th>\n",
              "      <td>99</td>\n",
              "      <td>75</td>\n",
              "      <td>26</td>\n",
              "      <td>41</td>\n",
              "    </tr>\n",
              "    <tr>\n",
              "      <th>341</th>\n",
              "      <td>96</td>\n",
              "      <td>69</td>\n",
              "      <td>53</td>\n",
              "      <td>203</td>\n",
              "    </tr>\n",
              "    <tr>\n",
              "      <th>342</th>\n",
              "      <td>98</td>\n",
              "      <td>77</td>\n",
              "      <td>55</td>\n",
              "      <td>89</td>\n",
              "    </tr>\n",
              "    <tr>\n",
              "      <th>343</th>\n",
              "      <td>91</td>\n",
              "      <td>68</td>\n",
              "      <td>27</td>\n",
              "      <td>14</td>\n",
              "    </tr>\n",
              "    <tr>\n",
              "      <th>344</th>\n",
              "      <td>98</td>\n",
              "      <td>99</td>\n",
              "      <td>57</td>\n",
              "      <td>65</td>\n",
              "    </tr>\n",
              "  </tbody>\n",
              "</table>\n",
              "<p>345 rows × 4 columns</p>\n",
              "</div>"
            ],
            "text/plain": [
              "     mcv  alkphos  sgpt  gmmagt\n",
              "0     85       92    45      31\n",
              "1     85       64    59      23\n",
              "2     86       54    33      54\n",
              "3     91       78    34      36\n",
              "4     87       70    12      10\n",
              "..   ...      ...   ...     ...\n",
              "340   99       75    26      41\n",
              "341   96       69    53     203\n",
              "342   98       77    55      89\n",
              "343   91       68    27      14\n",
              "344   98       99    57      65\n",
              "\n",
              "[345 rows x 4 columns]"
            ]
          },
          "metadata": {
            "tags": []
          },
          "execution_count": 11
        }
      ]
    },
    {
      "cell_type": "code",
      "metadata": {
        "id": "ibeTSfmGARTX",
        "outputId": "17d7cc95-e074-4637-c0b0-950dee4cc4d1",
        "colab": {
          "base_uri": "https://localhost:8080/",
          "height": 235
        }
      },
      "source": [
        "logisticR(X,y)"
      ],
      "execution_count": null,
      "outputs": [
        {
          "output_type": "stream",
          "text": [
            "Predicción train ->  [0 0 1 0 1 0 0 1 0 1 0 0 1 1 1 0 0 0 1 0 0 0 1 0 1 1 0 0 1 1 0 0 0 0 1 0 1\n",
            " 1 0 0 0 0 0 0 1 0 0 1 0 1 1 1 1 1 1 1 1 0 1 1 1 1 1 0 0 0 1 1 1]\n",
            "[[21 14]\n",
            " [14 20]]\n",
            "Score ->  0.5942028985507246\n",
            "Cross validation ->  [0.51428571 0.34285714 0.68571429 0.68571429 0.51428571 0.70588235\n",
            " 0.61764706 0.64705882 0.67647059 0.55882353]\n",
            "Precisión: 0.59 (+/-  0.00)\n",
            "Precisión Cross validation : 0.59 (+/-  0.22)\n",
            "f1 Score ->  0.5882352941176471\n",
            "El modelo solo es capaz de identificar el 0.59 \n",
            "Recall Score ->  0.5882352941176471\n"
          ],
          "name": "stdout"
        }
      ]
    },
    {
      "cell_type": "code",
      "metadata": {
        "id": "eXKEQY6r4c-w",
        "outputId": "f00a1d37-58af-4bb1-a0db-2213b587b2eb",
        "colab": {
          "base_uri": "https://localhost:8080/",
          "height": 345
        }
      },
      "source": [
        "##Elimiando variables no significativas basandose en lasso\n",
        "#listDropLiveDisorders=['selector','gmmagt']\n",
        "listDropLiveDisorders=['selector','alkphos']\n",
        "LiveDisorders_Lasso = datasetOriginal_bupa.drop(listDropLiveDisorders, axis=\"columns\")\n",
        "print(LiveDisorders_Lasso)\n",
        "LiveDisorders_Lasso = Afinando_valores_dataset(LiveDisorders_Lasso)\n",
        "y =  LiveDisorders_Lasso[\"drinks\"]\n",
        "X = LiveDisorders_Lasso.iloc[:, 0:4]\n",
        "\n"
      ],
      "execution_count": null,
      "outputs": [
        {
          "output_type": "stream",
          "text": [
            "     mcv  sgpt  sgot  gmmagt  drinks\n",
            "0     85    45    27      31     0.0\n",
            "1     85    59    32      23     0.0\n",
            "2     86    33    16      54     0.0\n",
            "3     91    34    24      36     0.0\n",
            "4     87    12    28      10     0.0\n",
            "..   ...   ...   ...     ...     ...\n",
            "340   99    26    24      41    12.0\n",
            "341   96    53    43     203    12.0\n",
            "342   98    55    35      89    15.0\n",
            "343   91    27    26      14    16.0\n",
            "344   98    57    45      65    20.0\n",
            "\n",
            "[345 rows x 5 columns]\n",
            "drinks\n",
            "0    169\n",
            "1    176\n",
            "dtype: int64\n"
          ],
          "name": "stdout"
        }
      ]
    },
    {
      "cell_type": "code",
      "metadata": {
        "id": "xO9XCpBv8RWT",
        "outputId": "647943bb-d304-4562-c645-69172216d36a",
        "colab": {
          "base_uri": "https://localhost:8080/",
          "height": 235
        }
      },
      "source": [
        "logisticR(X,y)"
      ],
      "execution_count": null,
      "outputs": [
        {
          "output_type": "stream",
          "text": [
            "Predicción train ->  [1 0 0 1 0 1 1 0 1 1 0 1 0 0 1 1 0 1 1 1 1 1 0 0 0 0 1 1 1 1 1 1 1 0 0 1 0\n",
            " 0 0 1 1 1 1 0 1 0 0 1 0 1 0 1 1 0 0 1 0 1 0 1 0 1 0 1 0 0 0 0 1]\n",
            "[[20 17]\n",
            " [12 20]]\n",
            "Score ->  0.5797101449275363\n",
            "Cross validation ->  [0.51428571 0.45714286 0.68571429 0.62857143 0.62857143 0.73529412\n",
            " 0.5        0.64705882 0.70588235 0.67647059]\n",
            "Precisión: 0.58 (+/-  0.00)\n",
            "Precisión Cross validation : 0.62 (+/-  0.18)\n",
            "f1 Score ->  0.5797101449275363\n",
            "El modelo solo es capaz de identificar el 0.62 \n",
            "Recall Score ->  0.625\n"
          ],
          "name": "stdout"
        }
      ]
    },
    {
      "cell_type": "markdown",
      "metadata": {
        "id": "LvXS4B_Qnlg_"
      },
      "source": [
        "**Recursive Feature Elimination**"
      ]
    },
    {
      "cell_type": "code",
      "metadata": {
        "id": "mV8Iimegno3D"
      },
      "source": [
        ""
      ],
      "execution_count": null,
      "outputs": []
    },
    {
      "cell_type": "code",
      "metadata": {
        "id": "HV72uJ1TpENh"
      },
      "source": [
        ""
      ],
      "execution_count": null,
      "outputs": []
    },
    {
      "cell_type": "code",
      "metadata": {
        "id": "d6y9gcwRpalx"
      },
      "source": [
        "\n"
      ],
      "execution_count": null,
      "outputs": []
    }
  ]
}